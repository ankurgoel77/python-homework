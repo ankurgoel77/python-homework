{
 "cells": [
  {
   "cell_type": "markdown",
   "metadata": {},
   "source": [
    "## PyBank Assignment\n",
    "> by Ankur Goel"
   ]
  },
  {
   "cell_type": "code",
   "execution_count": 1,
   "metadata": {},
   "outputs": [],
   "source": [
    "# Imports\n",
    "from pathlib import Path\n",
    "import csv"
   ]
  },
  {
   "cell_type": "code",
   "execution_count": 2,
   "metadata": {},
   "outputs": [],
   "source": [
    "# Initialize Variables\n",
    "# Note - Set greatest_increase_amount to 0 and then loop through the data to get the highest value\n",
    "#      - Set greatest_decrease_amount to math.inf and loop through the data to get the lowest value\n",
    "#      - previous_month_profit records the profit of the previous month\n",
    "#      - profit_change accumulates the change in profit from month to month\n",
    "total_months = 0\n",
    "net_total = 0\n",
    "greatest_increase_amount = 0\n",
    "greatest_increase_month = \"\"\n",
    "greatest_decrease_amount = float('inf')\n",
    "greatest_decrease_month = \"\"\n",
    "previous_month_profit = 0\n",
    "profit_change = 0\n",
    "average_profit_change = 0"
   ]
  },
  {
   "cell_type": "code",
   "execution_count": 3,
   "metadata": {},
   "outputs": [],
   "source": [
    "# Setup File Access\n",
    "filepath = Path(\"./Resources/budget_data.csv\")"
   ]
  },
  {
   "cell_type": "code",
   "execution_count": 4,
   "metadata": {},
   "outputs": [],
   "source": [
    "# Loop Through the file and calculate our statistics\n",
    "with open(filepath,'r') as csvfile:\n",
    "    csvreader = csv.reader(csvfile, delimiter=\",\")\n",
    "    next(csvreader) # skip header row\n",
    "    for row in csvreader:\n",
    "        current_month = row[0]\n",
    "        current_amount = int(row[1])\n",
    "        \n",
    "        total_months += 1\n",
    "        net_total += current_amount\n",
    "        \n",
    "        if greatest_increase_amount < current_amount :\n",
    "            greatest_increase_amount = current_amount\n",
    "            greatest_increase_month = current_month\n",
    "            \n",
    "        if greatest_decrease_amount > current_amount :\n",
    "            greatest_decrease_amount = current_amount\n",
    "            greatest_decrease_month = current_month\n",
    "        \n",
    "        if total_months == 1:\n",
    "            previous_month_profit = current_amount\n",
    "        else:\n",
    "            profit_change += current_amount - previous_month_profit\n",
    "            previous_month_profit = current_amount\n",
    "\n",
    "#Because we are calculating average profit *change*, there is one less month total\n",
    "average_profit_change = profit_change/( total_months-1)\n",
    "        "
   ]
  },
  {
   "cell_type": "code",
   "execution_count": 5,
   "metadata": {},
   "outputs": [],
   "source": [
    "# Create output string\n",
    "output = (\n",
    "    f'Financial Analysis\\n'\n",
    "    f'----------------------------\\n'\n",
    "    f'Total Months: {total_months}\\n'\n",
    "    f'Total: ${net_total}\\n'\n",
    "    f'Average Change: ${average_profit_change:.2f}\\n'\n",
    "    f'Greatest Increase in Profits: {greatest_increase_month} (${greatest_increase_amount})\\n'\n",
    "    f'Greatest Decrease in Profits: {greatest_decrease_month} (${greatest_decrease_amount})\\n'\n",
    ")"
   ]
  },
  {
   "cell_type": "code",
   "execution_count": 6,
   "metadata": {},
   "outputs": [
    {
     "name": "stdout",
     "output_type": "stream",
     "text": [
      "Financial Analysis\n",
      "----------------------------\n",
      "Total Months: 86\n",
      "Total: $38382578\n",
      "Average Change: $-2315.12\n",
      "Greatest Increase in Profits: Feb-2012 ($1170593)\n",
      "Greatest Decrease in Profits: Sep-2013 ($-1196225)\n",
      "\n"
     ]
    }
   ],
   "source": [
    "#output to terminal\n",
    "print(output)"
   ]
  },
  {
   "cell_type": "code",
   "execution_count": 7,
   "metadata": {},
   "outputs": [],
   "source": [
    "#export to a text file\n",
    "filepath = Path(\"./output.txt\")\n",
    "with open(filepath,'w') as textfile:\n",
    "    for items in report:\n",
    "        \n",
    "    textfile.write(output)"
   ]
  },
  {
   "cell_type": "code",
   "execution_count": null,
   "metadata": {},
   "outputs": [],
   "source": []
  }
 ],
 "metadata": {
  "kernelspec": {
   "display_name": "Python 3",
   "language": "python",
   "name": "python3"
  },
  "language_info": {
   "codemirror_mode": {
    "name": "ipython",
    "version": 3
   },
   "file_extension": ".py",
   "mimetype": "text/x-python",
   "name": "python",
   "nbconvert_exporter": "python",
   "pygments_lexer": "ipython3",
   "version": "3.7.9"
  }
 },
 "nbformat": 4,
 "nbformat_minor": 4
}

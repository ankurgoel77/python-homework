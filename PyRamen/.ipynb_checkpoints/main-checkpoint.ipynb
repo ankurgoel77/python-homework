{
 "cells": [
  {
   "cell_type": "markdown",
   "metadata": {},
   "source": [
    "# PyRamen Assignment\n",
    "> by Ankur Goel"
   ]
  },
  {
   "cell_type": "code",
   "execution_count": 12,
   "metadata": {},
   "outputs": [],
   "source": [
    "# Import libraries\n",
    "import csv\n",
    "from pathlib import Path\n",
    "import math"
   ]
  },
  {
   "cell_type": "code",
   "execution_count": 13,
   "metadata": {},
   "outputs": [],
   "source": [
    "# Set file paths for menu_data.csv and sales_data.csv\n",
    "menu_filepath = Path('./menu_data.csv')\n",
    "sales_filepath = Path('./sales_data.csv')"
   ]
  },
  {
   "cell_type": "code",
   "execution_count": 14,
   "metadata": {},
   "outputs": [],
   "source": [
    "# Initialize list objects to hold our menu and sales data\n",
    "menu = []\n",
    "sales = []"
   ]
  },
  {
   "cell_type": "code",
   "execution_count": 19,
   "metadata": {},
   "outputs": [],
   "source": [
    "# Read in the menu data into the menu list\n",
    "\n",
    "with open(menu_filepath, 'r') as menufile:\n",
    "    csvreader = csv.reader(menufile,delimiter=',')\n",
    "    next(csvreader) # skip header\n",
    "    for row in csvreader:\n",
    "        menu.append(row)\n",
    "\n",
    "with open(sales_filepath,'r') as salesfile:\n",
    "    csvreader = csv.reader(salesfile,delimiter=',')\n",
    "    next(csvreader) # skip header\n",
    "    for row in csvreader:\n",
    "        sales.append(row)"
   ]
  },
  {
   "cell_type": "code",
   "execution_count": 20,
   "metadata": {},
   "outputs": [],
   "source": [
    "# Initialize dict object to hold our key-value pairs of items and metrics\n",
    "report = {}"
   ]
  },
  {
   "cell_type": "code",
   "execution_count": 21,
   "metadata": {},
   "outputs": [],
   "source": [
    "# Initialize a row counter variable\n",
    "row_count = 0"
   ]
  },
  {
   "cell_type": "code",
   "execution_count": 23,
   "metadata": {},
   "outputs": [],
   "source": [
    "# Loop over every row in the sales list object\n",
    "for row in sales:\n",
    "    current_quantity = row[3]\n",
    "    current_menu_item = row[4]\n",
    "    if not (current_menu_item in report):\n",
    "        report[current_menu_item] = {\n",
    "            \"01-count\": 0,\n",
    "            \"02-revenue\": 0,\n",
    "            \"03-cogs\": 0,\n",
    "            \"04-profit\" : 0,\n",
    "        }\n",
    "    "
   ]
  },
  {
   "cell_type": "code",
   "execution_count": 24,
   "metadata": {},
   "outputs": [
    {
     "data": {
      "text/plain": [
       "{'Menu_Item': {'01-count': 0, '02-revenue': 0, '03-cogs': 0, '04-profit': 0},\n",
       " 'spicy miso ramen': {'01-count': 0,\n",
       "  '02-revenue': 0,\n",
       "  '03-cogs': 0,\n",
       "  '04-profit': 0},\n",
       " 'tori paitan ramen': {'01-count': 0,\n",
       "  '02-revenue': 0,\n",
       "  '03-cogs': 0,\n",
       "  '04-profit': 0},\n",
       " 'truffle butter ramen': {'01-count': 0,\n",
       "  '02-revenue': 0,\n",
       "  '03-cogs': 0,\n",
       "  '04-profit': 0},\n",
       " 'tonkotsu ramen': {'01-count': 0,\n",
       "  '02-revenue': 0,\n",
       "  '03-cogs': 0,\n",
       "  '04-profit': 0},\n",
       " 'vegetarian spicy miso': {'01-count': 0,\n",
       "  '02-revenue': 0,\n",
       "  '03-cogs': 0,\n",
       "  '04-profit': 0},\n",
       " 'shio ramen': {'01-count': 0, '02-revenue': 0, '03-cogs': 0, '04-profit': 0},\n",
       " 'miso crab ramen': {'01-count': 0,\n",
       "  '02-revenue': 0,\n",
       "  '03-cogs': 0,\n",
       "  '04-profit': 0},\n",
       " 'nagomi shoyu': {'01-count': 0,\n",
       "  '02-revenue': 0,\n",
       "  '03-cogs': 0,\n",
       "  '04-profit': 0},\n",
       " 'soft-shell miso crab ramen': {'01-count': 0,\n",
       "  '02-revenue': 0,\n",
       "  '03-cogs': 0,\n",
       "  '04-profit': 0},\n",
       " 'burnt garlic tonkotsu ramen': {'01-count': 0,\n",
       "  '02-revenue': 0,\n",
       "  '03-cogs': 0,\n",
       "  '04-profit': 0},\n",
       " 'vegetarian curry + king trumpet mushroom ramen': {'01-count': 0,\n",
       "  '02-revenue': 0,\n",
       "  '03-cogs': 0,\n",
       "  '04-profit': 0}}"
      ]
     },
     "execution_count": 24,
     "metadata": {},
     "output_type": "execute_result"
    }
   ],
   "source": [
    "report"
   ]
  },
  {
   "cell_type": "code",
   "execution_count": null,
   "metadata": {},
   "outputs": [],
   "source": []
  }
 ],
 "metadata": {
  "kernelspec": {
   "display_name": "Python 3",
   "language": "python",
   "name": "python3"
  },
  "language_info": {
   "codemirror_mode": {
    "name": "ipython",
    "version": 3
   },
   "file_extension": ".py",
   "mimetype": "text/x-python",
   "name": "python",
   "nbconvert_exporter": "python",
   "pygments_lexer": "ipython3",
   "version": "3.7.9"
  }
 },
 "nbformat": 4,
 "nbformat_minor": 4
}

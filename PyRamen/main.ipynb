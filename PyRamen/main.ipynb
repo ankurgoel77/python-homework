{
 "cells": [
  {
   "cell_type": "markdown",
   "metadata": {},
   "source": [
    "# PyRamen Assignment\n",
    "> by Ankur Goel"
   ]
  },
  {
   "cell_type": "code",
   "execution_count": 6,
   "metadata": {},
   "outputs": [],
   "source": [
    "# Import libraries\n",
    "import csv\n",
    "from pathlib import Path\n",
    "import math"
   ]
  },
  {
   "cell_type": "code",
   "execution_count": 7,
   "metadata": {},
   "outputs": [],
   "source": [
    "# Set file paths for menu_data.csv and sales_data.csv\n",
    "menu_filepath = Path('./Resources/menu_data.csv')\n",
    "sales_filepath = Path('./Resources/sales_data.csv')"
   ]
  },
  {
   "cell_type": "code",
   "execution_count": 8,
   "metadata": {},
   "outputs": [],
   "source": [
    "# Initialize list objects to hold our menu and sales data\n",
    "menu = []\n",
    "sales = []"
   ]
  },
  {
   "cell_type": "code",
   "execution_count": 9,
   "metadata": {},
   "outputs": [],
   "source": [
    "# Read in the menu data into the menu list\n",
    "\n",
    "with open(menu_filepath, 'r') as menufile:\n",
    "    csvreader = csv.reader(menufile,delimiter=',')\n",
    "    next(csvreader) # skip header\n",
    "    for row in csvreader:\n",
    "        menu.append(row)\n",
    "\n",
    "with open(sales_filepath,'r') as salesfile:\n",
    "    csvreader = csv.reader(salesfile,delimiter=',')\n",
    "    next(csvreader) # skip header\n",
    "    for row in csvreader:\n",
    "        sales.append(row)"
   ]
  },
  {
   "cell_type": "code",
   "execution_count": 10,
   "metadata": {},
   "outputs": [],
   "source": [
    "# Initialize dict object to hold our key-value pairs of items and metrics\n",
    "report = {}"
   ]
  },
  {
   "cell_type": "code",
   "execution_count": 11,
   "metadata": {},
   "outputs": [],
   "source": [
    "# Initialize a row counter variable\n",
    "row_count = 0"
   ]
  },
  {
   "cell_type": "code",
   "execution_count": 12,
   "metadata": {},
   "outputs": [],
   "source": [
    "# Loop over every row in the sales list object\n",
    "for row in sales:\n",
    "    sales_quantity = int(row[3])  # Quantity is in the fourth column\n",
    "    sales_item = row[4]  # Item is in the fifth column\n",
    "    if not (sales_item in report):\n",
    "        report[sales_item] = {\n",
    "            \"01-count\": 0,\n",
    "            \"02-revenue\": 0,\n",
    "            \"03-cogs\": 0,\n",
    "            \"04-profit\" : 0,\n",
    "        }\n",
    "        \n",
    "    for menu_items in menu:\n",
    "        item = menu_items[0]\n",
    "        price = float(menu_items[3])\n",
    "        cost = float(menu_items[4])\n",
    "        \n",
    "        if sales_item == item:\n",
    "            report[sales_item][\"01-count\"] += sales_quantity\n",
    "            report[sales_item][\"02-revenue\"] += price * sales_quantity\n",
    "            report[sales_item][\"03-cogs\"] += cost * sales_quantity\n",
    "            report[sales_item][\"04-profit\"] += (price-cost) * sales_quantity"
   ]
  },
  {
   "cell_type": "code",
   "execution_count": 13,
   "metadata": {},
   "outputs": [
    {
     "output_type": "execute_result",
     "data": {
      "text/plain": [
       "{'spicy miso ramen': {'01-count': 9238,\n",
       "  '02-revenue': 110856.0,\n",
       "  '03-cogs': 46190.0,\n",
       "  '04-profit': 64666.0},\n",
       " 'tori paitan ramen': {'01-count': 9156,\n",
       "  '02-revenue': 119028.0,\n",
       "  '03-cogs': 54936.0,\n",
       "  '04-profit': 64092.0},\n",
       " 'truffle butter ramen': {'01-count': 8982,\n",
       "  '02-revenue': 125748.0,\n",
       "  '03-cogs': 62874.0,\n",
       "  '04-profit': 62874.0},\n",
       " 'tonkotsu ramen': {'01-count': 9288,\n",
       "  '02-revenue': 120744.0,\n",
       "  '03-cogs': 55728.0,\n",
       "  '04-profit': 65016.0},\n",
       " 'vegetarian spicy miso': {'01-count': 9216,\n",
       "  '02-revenue': 110592.0,\n",
       "  '03-cogs': 46080.0,\n",
       "  '04-profit': 64512.0},\n",
       " 'shio ramen': {'01-count': 9180,\n",
       "  '02-revenue': 100980.0,\n",
       "  '03-cogs': 45900.0,\n",
       "  '04-profit': 55080.0},\n",
       " 'miso crab ramen': {'01-count': 8890,\n",
       "  '02-revenue': 106680.0,\n",
       "  '03-cogs': 53340.0,\n",
       "  '04-profit': 53340.0},\n",
       " 'nagomi shoyu': {'01-count': 9132,\n",
       "  '02-revenue': 100452.0,\n",
       "  '03-cogs': 45660.0,\n",
       "  '04-profit': 54792.0},\n",
       " 'soft-shell miso crab ramen': {'01-count': 9130,\n",
       "  '02-revenue': 127820.0,\n",
       "  '03-cogs': 63910.0,\n",
       "  '04-profit': 63910.0},\n",
       " 'burnt garlic tonkotsu ramen': {'01-count': 9070,\n",
       "  '02-revenue': 126980.0,\n",
       "  '03-cogs': 54420.0,\n",
       "  '04-profit': 72560.0},\n",
       " 'vegetarian curry + king trumpet mushroom ramen': {'01-count': 8824,\n",
       "  '02-revenue': 114712.0,\n",
       "  '03-cogs': 61768.0,\n",
       "  '04-profit': 52944.0}}"
      ]
     },
     "metadata": {},
     "execution_count": 13
    }
   ],
   "source": [
    "report"
   ]
  },
  {
   "cell_type": "code",
   "execution_count": 31,
   "metadata": {},
   "outputs": [],
   "source": [
    "filepath = Path(\"./output.txt\")\n",
    "type(report)\n",
    "with open(filepath,'w') as outputfile:\n",
    "    for key,value in report.items():\n",
    "        output_str = f\"{key} {str(value)}\\n\"\n",
    "        outputfile.write(output_str)\n"
   ]
  },
  {
   "cell_type": "code",
   "execution_count": null,
   "metadata": {},
   "outputs": [],
   "source": []
  }
 ],
 "metadata": {
  "kernelspec": {
   "display_name": "Python 3",
   "language": "python",
   "name": "python3"
  },
  "language_info": {
   "codemirror_mode": {
    "name": "ipython",
    "version": 3
   },
   "file_extension": ".py",
   "mimetype": "text/x-python",
   "name": "python",
   "nbconvert_exporter": "python",
   "pygments_lexer": "ipython3",
   "version": "3.7.9-final"
  }
 },
 "nbformat": 4,
 "nbformat_minor": 4
}